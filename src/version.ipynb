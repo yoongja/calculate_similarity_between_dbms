{
 "cells": [
  {
   "cell_type": "code",
   "execution_count": 2,
   "metadata": {},
   "outputs": [],
   "source": [
    "# %%\n",
    "import requests\n",
    "from bs4 import BeautifulSoup\n",
    "import csv"
   ]
  },
  {
   "cell_type": "code",
   "execution_count": 3,
   "metadata": {},
   "outputs": [],
   "source": [
    "# %%\n",
    "# 대상 URL\n",
    "version_8_url = \"https://dev.mysql.com/doc/refman/8.4/en/dynamic-system-variables.html\"\n",
    "\n",
    "# HTTP GET 요청을 보내고 HTML 내용을 가져옴\n",
    "response = requests.get(version_8_url)\n",
    "html_content = response.text"
   ]
  },
  {
   "cell_type": "code",
   "execution_count": 4,
   "metadata": {},
   "outputs": [],
   "source": [
    "# BeautifulSoup을 사용하여 HTML 파싱\n",
    "soup = BeautifulSoup(html_content, 'html.parser')\n",
    "\n"
   ]
  },
  {
   "cell_type": "code",
   "execution_count": 5,
   "metadata": {},
   "outputs": [],
   "source": [
    "version_8_parameters = []\n",
    "\n",
    "table_contents = soup.find('div', class_='table-contents')\n",
    "if table_contents:\n",
    "    rows = table_contents.find_all('tr')\n",
    "    for row in rows:\n",
    "        link = row.find('a', class_='link')\n",
    "        \n",
    "        if link:\n",
    "            param_name = link.text.strip()\n",
    "            href = 'https://dev.mysql.com/doc/refman/8.4/en/' + link['href']\n",
    "            version_8_parameters.append((param_name, href))\n",
    "\n"
   ]
  },
  {
   "cell_type": "code",
   "execution_count": 7,
   "metadata": {},
   "outputs": [],
   "source": [
    "# # 결과 출력\n",
    "# for param in version_8_parameters:\n",
    "#     print(param)"
   ]
  },
  {
   "cell_type": "code",
   "execution_count": 8,
   "metadata": {},
   "outputs": [],
   "source": [
    "# %%\n",
    "# 대상 URL\n",
    "version_5_url = \"https://dev.mysql.com/doc/refman/8.4/en/dynamic-system-variables.html\"\n",
    "\n",
    "# HTTP GET 요청을 보내고 HTML 내용을 가져옴\n",
    "response = requests.get(version_5_url)\n",
    "version_5_html_content = response.text"
   ]
  },
  {
   "cell_type": "code",
   "execution_count": 10,
   "metadata": {},
   "outputs": [],
   "source": [
    "# BeautifulSoup을 사용하여 HTML 파싱\n",
    "version_5_soup = BeautifulSoup(version_5_html_content, 'html.parser')\n",
    "\n",
    "# version_5_soup\n"
   ]
  },
  {
   "cell_type": "code",
   "execution_count": 11,
   "metadata": {},
   "outputs": [],
   "source": [
    "version_5_parameters = []\n",
    "\n",
    "table_contents = version_5_soup.find('div', class_='table-contents')\n",
    "if table_contents:\n",
    "    rows = table_contents.find_all('tr')\n",
    "    for row in rows:\n",
    "        link = row.find('a', class_='link')\n",
    "        \n",
    "        if link:\n",
    "            param_name = link.text.strip()\n",
    "            href = 'https://dev.mysql.com/doc/refman/8.4/en/' + link['href']\n",
    "            version_5_parameters.append((param_name, href))\n",
    "\n"
   ]
  },
  {
   "cell_type": "markdown",
   "metadata": {},
   "source": [
    "## version 5와 version 8을 비교"
   ]
  },
  {
   "cell_type": "code",
   "execution_count": 12,
   "metadata": {},
   "outputs": [],
   "source": [
    "import pandas as pd"
   ]
  },
  {
   "cell_type": "code",
   "execution_count": 13,
   "metadata": {},
   "outputs": [],
   "source": [
    "# 파라미터 이름 기준으로 set을 생성하여 차이점 찾기\n",
    "version_5_set = set(version_5_parameters)\n",
    "version_8_set = set(version_8_parameters)"
   ]
  },
  {
   "cell_type": "code",
   "execution_count": 15,
   "metadata": {},
   "outputs": [],
   "source": [
    "# 파라미터 이름만 추출하여 set 생성\n",
    "version_5_set = {name for name, href in version_5_parameters}\n",
    "version_8_set = {name for name, href in version_8_parameters}"
   ]
  },
  {
   "cell_type": "code",
   "execution_count": 16,
   "metadata": {},
   "outputs": [
    {
     "name": "stdout",
     "output_type": "stream",
     "text": [
      "version8\n",
      "{'optimizer_switch', 'innodb_redo_log_capacity', 'ndb_autoincrement_prefetch_sz', 'ndb_use_transactions', 'show_create_table_skip_secondary_engine', 'group_replication_clone_threshold', 'generated_random_password_length', 'authentication_ldap_simple_referral', 'pseudo_slave_mode', 'mandatory_roles', 'ndb_clear_apply_status', 'innodb_print_ddl_logs', 'binlog_expire_logs_seconds', 'group_replication_ssl_mode', 'innodb_compression_failure_threshold_pct', 'temptable_max_ram', 'innodb_ddl_buffer_size', 'table_encryption_privilege_check', 'clone_ddl_timeout', 'innodb_ddl_threads', 'secondary_engine_cost_threshold', 'select_into_disk_sync_delay', 'temptable_max_mmap', 'partial_revokes', 'rpl_semi_sync_source_timeout', 'ssl_crlpath', 'ndb_extra_logging', 'max_insert_delayed_threads', 'rpl_semi_sync_master_wait_point', 'group_replication_recovery_retry_count', 'table_definition_cache', 'admin_ssl_crlpath', 'replica_preserve_commit_order', 'time_zone', 'mysqlx_max_allowed_packet', 'authentication_ldap_sasl_bind_root_dn', 'ndb_fully_replicated', 'ssl_key', 'validate_password.policy', 'character_set_connection', 'innodb_idle_flush_pct', 'slave_exec_mode', 'group_replication_poll_spin_loops', 'replication_sender_observe_commit_only', 'innodb_fsync_threshold', 'innodb_concurrency_tickets', 'super_read_only', 'mysqlx_wait_timeout', 'performance_schema_max_digest_sample_age', 'mysqlx_lz4_max_client_compression_level', 'authentication_ldap_simple_server_port', 'innodb_stats_transient_sample_pages', 'log_statements_unsafe_for_binlog', 'myisam_max_sort_file_size', 'ndb_replica_batch_size', 'original_commit_timestamp', 'thread_pool_max_transactions_limit', 'ndb_metadata_check', 'group_replication_message_cache_size', 'replica_transaction_retries', 'group_replication_recovery_ssl_capath', 'mysqlx_zstd_max_client_compression_level', 'connection_memory_limit', 'slave_type_conversions', 'default_table_encryption', 'check_proxy_users', 'innodb_monitor_reset', 'clone_max_concurrency', 'authentication_ldap_sasl_bind_root_pwd', 'innodb_stats_auto_recalc', 'audit_log_disable', 'innodb_open_files', 'mysqlx_enable_hello_notice', 'ndb_eventbuffer_max_alloc', 'ndb_log_empty_epochs', 'query_alloc_block_size', 'sql_generate_invisible_primary_key', 'ndbinfo_show_hidden', 'innodb_adaptive_max_sleep_delay', 'innodb_monitor_disable', 'max_delayed_threads', 'ft_boolean_syntax', 'group_replication_ip_allowlist', 'slave_compressed_protocol', 'rpl_semi_sync_master_wait_for_slave_count', 'ndb_log_binlog_index', 'audit_log_password_history_keep_days', 'validate_password_dictionary_file', 'ndb_deferred_constraints', 'authentication_ldap_sasl_response_timeout', 'transaction_prealloc_size', 'ndb_force_send', 'password_history', 'clone_ssl_ca', 'character_set_client', 'group_replication_single_primary_mode', 'gtid_next', 'group_replication_communication_stack', 'innodb_compression_level', 'optimizer_trace', 'innodb_stats_on_metadata', 'ndb_join_pushdown', 'slave_parallel_type', 'authentication_ldap_sasl_ca_path', 'source_verify_checksum', 'binlog_checksum', 'rewriter_enabled_for_threads_without_privilege_checks', 'ndb_recv_thread_cpu_mask', 'log_slow_replica_statements', 'rpl_semi_sync_source_wait_for_replica_count', 'validate_password_length', 'replica_sql_verify_checksum', 'validate_password_number_count', 'group_replication_flow_control_applier_threshold', 'authentication_ldap_sasl_tls', 'concurrent_insert', 'group_replication_recovery_get_public_key', 'validate_password.number_count', 'internal_tmp_mem_storage_engine', 'myisam_data_pointer_size', 'admin_tls_ciphersuites', 'ndb_table_temporary', 'innodb_status_output_locks', 'innodb_max_purge_lag_delay', 'authentication_ldap_simple_bind_root_dn', 'flush_time', 'myisam_stats_method', 'innodb_redo_log_encrypt', 'sql_warnings', 'binlog_row_value_options', 'slave_allow_batching', 'max_sort_length', 'innodb_change_buffering_debug', 'innodb_segment_reserve_factor', 'keyring_hashicorp_role_id', 'innodb_stats_method', 'innodb_checkpoint_disabled', 'show_gipk_in_create_table_and_information_schema', 'group_replication_bootstrap_group', 'replica_checkpoint_period', 'replica_max_allowed_packet', 'enterprise_encryption.maximum_rsa_key_size', 'regexp_time_limit', 'tls_ciphersuites', 'pseudo_thread_id', 'delayed_insert_limit', 'slow_launch_time', 'thread_pool_query_threads_per_group', 'binlog_expire_logs_auto_purge', 'mysqlx_compression_algorithms', 'resultset_metadata', 'group_replication_recovery_ssl_cipher', 'log_error_suppression_list', 'innodb_log_write_ahead_size', 'admin_ssl_ca', 'innodb_io_capacity', 'group_replication_recovery_ssl_crl', 'replica_type_conversions', 'rpl_semi_sync_replica_trace_level', 'innodb_compression_pad_pct_max', 'innodb_flush_log_at_timeout', 'innodb_stats_persistent_sample_pages', 'authentication_ldap_simple_auth_method_name', 'sync_source_info', 'delayed_queue_size', 'mysql_firewall_trace', 'syseventlog.tag', 'validate_password_check_user_name', 'delayed_insert_timeout', 'max_allowed_packet', 'session_track_schema', 'innodb_log_wait_for_flush_spin_hwm', 'myisam_use_mmap', 'innodb_commit_concurrency', 'master_verify_checksum', 'ndb_slave_conflict_role', 'rpl_semi_sync_master_enabled', 'group_replication_flow_control_period', 'authentication_ldap_simple_connect_timeout', 'explain_format', 'ssl_cert', 'audit_log_max_size', 'mysqlx_max_connections', 'binlog_format', 'innodb_background_drop_list_empty', 'log_slow_slave_statements', 'sync_relay_log_info', 'debug_sync', 'thread_cache_size', 'authentication_ldap_sasl_connect_timeout', 'innodb_log_writer_threads', 'host_cache_size', 'innodb_print_all_deadlocks', 'authentication_ldap_simple_bind_root_pwd', 'authentication_ldap_sasl_log_status', 'max_connections', 'flush', 'group_replication_recovery_ssl_key', 'innodb_monitor_reset_all', 'replica_checkpoint_group', 'binlog_row_metadata', 'max_points_in_geometry', 'innodb_ft_enable_diag_print', 'relay_log_purge', 'default_storage_engine', 'group_replication_force_members', 'keyring_hashicorp_ca_path', 'audit_log_flush', 'innodb_redo_log_archive_dirs', 'clone_enable_compression', 'unique_checks', 'net_read_timeout', 'innodb_buffer_pool_load_now', 'syseventlog.include_pid', 'validate_password.check_user_name', 'activate_all_roles_on_login', 'transaction_read_only', 'min_examined_row_limit', 'rpl_semi_sync_source_enabled', 'ndb_report_thresh_binlog_epoch_slip', 'profiling_history_size', 'gtid_executed_compression_period', 'binlog_max_flush_queue_time', 'audit_log_statement_policy', 'group_replication_flow_control_member_quota_percent', 'version_tokens_session', 'admin_tls_version', 'debug', 'innodb_spin_wait_delay', 'tls_version', 'innodb_thread_concurrency', 'innodb_io_capacity_max', 'innodb_max_dirty_pages_pct_lwm', 'clone_valid_donor_list', 'slave_pending_jobs_size_max', 'global_connection_memory_limit', 'authentication_ldap_sasl_server_port', 'innodb_undo_tablespaces', 'mysqlx_connect_timeout', 'binlog_group_commit_sync_no_delay_count', 'authentication_ldap_sasl_group_search_attr', 'range_alloc_block_size', 'group_replication_recovery_reconnect_interval', 'collation_connection', 'group_replication_recovery_tls_version', 'mysqlx_idle_worker_thread_timeout', 'innodb_buffer_pool_dump_at_shutdown', 'audit_log_read_buffer_size', 'clone_ssl_cert', 'clone_buffer_size', 'validate_password.changed_characters_percentage', 'identity', 'ndb_metadata_sync', 'group_replication_flow_control_mode', 'validate_password_policy', 'character_set_results', 'group_replication_gtid_assignment_block_size', 'ndb_table_no_logging', 'optimizer_trace_offset', 'group_replication_flow_control_release_percent', 'max_seeks_for_key', 'binlog_group_commit_sync_delay', 'innodb_max_undo_log_size', 'sql_mode', 'innodb_disable_sort_file_cache', 'thread_pool_longrun_trx_limit', 'ndb_row_checksum', 'authentication_ldap_sasl_auth_method_name', 'rbr_exec_mode', 'sync_relay_log', 'lock_wait_timeout', 'mysqlx_deflate_max_client_compression_level', 'password_reuse_interval', 'binlog_transaction_compression_level_zstd', 'authentication_ldap_simple_tls', 'authentication_policy', 'group_replication_transaction_size_limit', 'innodb_autoextend_increment', 'innodb_ft_aux_table', 'ndb_log_exclusive_reads', 'max_length_for_sort_data', 'automatic_sp_privileges', 'group_replication_recovery_zstd_compression_level', 'sql_safe_updates', 'innodb_flush_neighbors', 'binlog_rows_query_log_events', 'innodb_buffer_pool_filename', 'audit_log_connection_policy', 'innodb_max_dirty_pages_pct', 'event_scheduler', 'cte_max_recursion_depth', 'innodb_saved_page_number_debug', 'max_user_connections', 'gtid_purged', 'replica_parallel_type', 'innodb_random_read_ahead', 'lc_messages', 'thread_pool_transaction_delay', 'authentication_ldap_simple_group_search_attr', 'slave_sql_verify_checksum', 'mysqlx_read_timeout', 'init_replica', 'innodb_undo_log_truncate', 'innodb_undo_log_encrypt', 'binlog_row_image', 'group_replication_advertise_recovery_endpoints', 'group_replication_consistency', 'innodb_fil_make_page_dirty_debug', 'group_replication_flow_control_certifier_threshold', 'innodb_lru_scan_depth', 'authentication_ldap_sasl_user_search_attr', 'rpl_semi_sync_source_trace_level', 'windowing_use_high_precision', 'audit_log_format_unix_timestamp', 'innodb_flushing_avg_loops', 'max_binlog_cache_size', 'slave_net_timeout', 'query_prealloc_size', 'sql_big_selects', 'profiling', 'group_replication_components_stop_timeout', 'binlog_direct_non_transactional_updates', 'group_replication_flow_control_max_quota', 'select_into_buffer_size', 'mysql_native_password_proxy_users', 'sql_log_bin', 'histogram_generation_max_mem_size', 'ndb_index_stat_option', 'authentication_ldap_simple_ca_path', 'sql_auto_is_null', 'innodb_adaptive_flushing', 'sql_log_off', 'server_id', 'innodb_optimize_fulltext_only', 'init_slave', 'binlog_transaction_dependency_history_size', 'group_replication_recovery_tls_ciphersuites', 'replica_exec_mode', 'temptable_use_mmap', 'net_retry_count', 'group_replication_start_on_boot', 'optimizer_prune_level', 'binlog_error_action', 'binlog_order_commits', 'low_priority_updates', 'stored_program_cache', 'innodb_sync_spin_loops', 'thread_pool_prio_kickup_timer', 'sort_buffer_size', 'admin_ssl_crl', 'ndb_schema_dist_lock_wait_timeout', 'replica_parallel_workers', 'thread_pool_max_active_query_threads', 'character_set_filesystem', 'innodb_lock_wait_timeout', 'use_secondary_engine', 'dragnet.log_error_filter_rules', 'rpl_semi_sync_source_wait_no_replica', 'innodb_ft_enable_stopword', 'max_prepared_stmt_count', 'innodb_fill_factor', 'rpl_semi_sync_slave_trace_level', 'rand_seed1', 'ssl_ca', 'log_throttle_queries_not_using_indexes', 'join_buffer_size', 'sql_buffer_result', 'insert_id', 'ndb_index_stat_enable', 'transaction_allow_batching', 'admin_ssl_cipher', 'updatable_views_with_limit', 'innodb_table_locks', 'innodb_use_fdatasync', 'tablespace_definition_cache', 'group_replication_group_seeds', 'password_require_current', 'innodb_compress_debug', 'group_replication_exit_state_action', 'keyring_aws_cmk_id', 'rpl_semi_sync_slave_enabled', 'enterprise_encryption.rsa_support_legacy_padding', 'group_replication_paxos_single_leader', 'keyring_hashicorp_server_url', 'ndb_replica_blob_write_batch_bytes', 'audit_log_rotate_on_size', 'rewriter_enabled', 'lc_time_names', 'rpl_semi_sync_master_timeout', 'replica_compressed_protocol', 'clone_autotune_concurrency', 'character_set_server', 'innodb_adaptive_flushing_lwm', 'innodb_rollback_segments', 'immediate_server_version', 'authentication_ldap_sasl_bind_base_dn', 'read_rnd_buffer_size', 'rpl_semi_sync_source_wait_point', 'innodb_buffer_pool_in_core_file', 'long_query_time', 'max_error_count', 'keyring_okv_conf_dir', 'max_relay_log_size', 'keyring_hashicorp_store_path', 'authentication_ldap_sasl_server_host', 'sql_notes', 'character_set_database', 'innodb_flush_sync', 'innodb_spin_wait_pause_multiplier', 'connection_control_failed_connections_threshold', 'innodb_log_buffer_size', 'innodb_old_blocks_pct', 'validate_password.length', 'innodb_log_checksums', 'audit_log_exclude_accounts', 'rpl_stop_slave_timeout', 'innodb_log_spin_cpu_pct_hwm', 'innodb_extend_and_initialize', 'key_cache_age_threshold', 'clone_delay_after_data_drop', 'pseudo_replica_mode', 'innodb_strict_mode', 'ssl_session_cache_mode', 'group_replication_recovery_ssl_crlpath', 'innodb_stats_persistent', 'transaction_alloc_block_size', 'innodb_checksum_algorithm', 'innodb_ft_user_stopword_table', 'ndb_eventbuffer_free_percent', 'sha256_password_proxy_users', 'max_join_size', 'innodb_trx_purge_view_update_only_debug', 'auto_increment_offset', 'innodb_old_blocks_time', 'ndb_log_empty_update', 'max_binlog_stmt_cache_size', 'read_only', 'binlog_transaction_compression', 'log_bin_trust_function_creators', 'mysqlx_write_timeout', 'key_buffer_size', 'last_insert_id', 'authentication_ldap_simple_user_search_attr', 'sql_replica_skip_counter', 'ndb_conflict_role', 'local_infile', 'sql_require_primary_key', 'auto_increment_increment', 'keyring_operations', 'key_cache_block_size', 'mysqlx_zstd_default_compression_level', 'clone_ssl_key', 'admin_ssl_key', 'binlog_cache_size', 'innodb_limit_optimistic_insert_debug', 'innodb_monitor_enable', 'clone_max_data_bandwidth', 'group_replication_flow_control_hold_percent', 'connection_memory_chunk_size', 'performance_schema_show_processlist', 'replica_net_timeout', 'optimizer_trace_limit', 'group_replication_recovery_ssl_ca', 'ssl_session_cache_timeout', 'session_track_transaction_info', 'group_replication_compression_threshold', 'group_replication_view_change_uuid', 'innodb_max_purge_lag', 'slave_transaction_retries', 'ndb_recv_thread_activation_threshold', 'keyring_hashicorp_secret_id', 'ndb_report_thresh_binlog_mem_usage', 'restrict_fk_on_non_standard_key', 'tmp_table_size', 'global_connection_memory_tracking', 'authentication_ldap_simple_init_pool_size', 'max_sp_recursion_depth', 'end_markers_in_json', 'telemetry.trace_enabled', 'set_operations_buffer_size', 'mysqlx_document_id_unique_prefix', 'mysqlx_deflate_default_compression_level', 'ndb_log_cache_size', 'group_replication_member_weight', 'innodb_cmp_per_index_enabled', 'select_into_disk_sync', 'init_connect', 'authentication_ldap_simple_server_host', 'innodb_purge_rseg_truncate_frequency', 'stored_program_definition_cache', 'innodb_buffer_pool_load_abort', 'rpl_semi_sync_master_wait_no_slave', 'group_replication_recovery_use_ssl', 'innodb_stats_include_delete_marked', 'audit_log_prune_seconds', 'authentication_ldap_simple_response_timeout', 'innodb_doublewrite', 'innodb_online_alter_log_max_size', 'group_replication_communication_max_message_size', 'print_identified_with_as_hex', 'validate_password.dictionary_file', 'max_heap_table_size', 'session_track_gtids', 'slow_query_log_file', 'innodb_deadlock_detect', 'log_raw', 'slave_checkpoint_period', 'optimizer_trace_features', 'group_replication_autorejoin_tries', 'max_connect_errors', 'innodb_adaptive_hash_index', 'sql_select_limit', 'innodb_status_output', 'table_open_cache', 'telemetry.otel_log_level', 'completion_type', 'default_tmp_storage_engine', 'group_replication_enforce_update_everywhere_checks', 'group_replication_group_name', 'sync_master_info', 'show_create_table_verbosity', 'sql_slave_skip_counter', 'authentication_ldap_sasl_referral', 'group_replication_local_address', 'default_week_format', 'delay_key_write', 'collation_database', 'authentication_ldap_sasl_init_pool_size', 'rpl_read_size', 'slave_checkpoint_group', 'timestamp', 'ndbinfo_max_bytes', 'clone_donor_timeout_after_network_failure', 'eq_range_index_dive_limit', 'group_replication_allow_local_lower_version_join', 'replica_pending_jobs_size_max', 'group_replication_unreachable_majority_timeout', 'authentication_kerberos_service_principal', 'explain_json_format_version', 'keyring_aws_region', 'clone_block_ddl', 'sql_quote_show_create', 'innodb_merge_threshold_set_all_debug', 'information_schema_stats_expiry', 'require_secure_transport', 'foreign_key_checks', 'ndb_read_backup', 'innodb_buffer_pool_size', 'mysqlx_lz4_default_compression_level', 'ndb_default_column_format', 'innodb_tmpdir', 'keep_files_on_create', 'innodb_buffer_pool_dump_now', 'validate_password.mixed_case_count', 'require_row_format', 'rpl_stop_replica_timeout', 'slave_preserve_commit_order', 'enforce_gtid_consistency', 'gtid_mode', 'offline_mode', 'bulk_insert_buffer_size', 'innodb_fast_shutdown', 'innodb_ft_server_stopword_table', 'wait_timeout', 'div_precision_increment', 'group_replication_recovery_compression_algorithms', 'group_replication_auto_increment_increment', 'innodb_thread_sleep_delay', 'ndbinfo_offline', 'max_execution_time', 'log_error_services', 'ndb_data_node_neighbour', 'ssl_capath', 'big_tables', 'rand_seed2', 'net_buffer_length', 'slave_max_allowed_packet', 'log_queries_not_using_indexes', 'mysql_firewall_mode', 'terminology_use_previous', 'syseventlog.facility', 'ndb_use_exact_count', 'old_alter_table', 'innodb_ft_num_word_optimize', 'ndb_log_transaction_compression_level_zstd', 'validate_password.special_char_count', 'keyring_hashicorp_caching', 'ssl_crl', 'connection_control_max_connection_delay', 'optimizer_search_depth', 'log_timestamps', 'slow_query_log', 'ndb_distribution', 'schema_definition_cache', 'clone_max_network_bandwidth', 'authentication_ldap_simple_bind_base_dn', 'binlog_encryption', 'authentication_ldap_sasl_max_pool_size', 'authentication_ldap_simple_log_status', 'session_track_state_change', 'sync_binlog', 'binlog_stmt_cache_size', 'preload_buffer_size', 'innodb_buffer_pool_dump_pct', 'log_output', 'innodb_ddl_log_crash_reset_debug', 'admin_ssl_capath', 'collation_server', 'innodb_change_buffering', 'innodb_log_checkpoint_now', 'thread_pool_stall_limit', 'component_scheduler.enabled', 'ndbinfo_max_rows', 'net_write_timeout', 'ndb_show_foreign_key_mock_tables', 'validate_password_special_char_count', 'audit_log_include_accounts', 'innodb_ft_result_cache_limit', 'innodb_log_spin_cpu_abs_lwm', 'transaction_isolation', 'authentication_ldap_simple_group_search_filter', 'log_slow_extra', 'myisam_sort_buffer_size', 'group_replication_flow_control_min_recovery_quota', 'explicit_defaults_for_timestamp', 'telemetry.query_text_enabled', 'log_error_verbosity', 'protocol_compression_algorithms', 'connect_timeout', 'innodb_log_compressed_pages', 'innodb_trx_rseg_n_slots_debug', 'block_encryption_mode', 'connection_control_min_connection_delay', 'group_replication_communication_debug_options', 'innodb_file_per_table', 'innodb_read_ahead_threshold', 'rpl_semi_sync_master_trace_level', 'rpl_semi_sync_replica_enabled', 'ssl_cipher', 'default_collation_for_utf8mb4', 'read_buffer_size', 'parser_max_mem_size', 'range_optimizer_max_mem_size', 'log_slow_admin_statements', 'mysqlx_min_worker_threads', 'group_replication_preemptive_garbage_collection_rows_threshold', 'group_concat_max_len', 'group_replication_recovery_public_key_path', 'admin_ssl_cert', 'group_replication_preemptive_garbage_collection', 'key_cache_division_limit', 'mysqlx_interactive_timeout', 'rewriter_verbose', 'group_replication_flow_control_min_quota', 'validate_password_mixed_case_count', 'authentication_webauthn_rp_id', 'autocommit', 'innodb_flush_log_at_trx_commit', 'ndb_dbg_check_shares', 'ndb_log_transaction_compression', 'replica_allow_batching', 'interactive_timeout', 'xa_detach_on_prepare', 'regexp_stack_limit', 'general_log_file', 'innodb_replication_delay', 'max_binlog_size', 'innodb_change_buffer_max_size', 'innodb_log_checkpoint_fuzzy_now', 'session_track_system_variables', 'slave_parallel_workers', 'optimizer_trace_max_mem_size', 'authentication_ldap_sasl_group_search_filter', 'original_server_version', 'innodb_default_row_format', 'replication_optimize_for_static_plugin_config', 'ndb_metadata_check_interval', 'general_log', 'default_password_lifetime', 'group_replication_recovery_ssl_verify_server_cert', 'innodb_parallel_read_threads', 'thread_pool_max_unused_threads', 'thread_pool_high_priority_connection', 'keyring_hashicorp_auth_path', 'authentication_ldap_simple_max_pool_size', 'group_replication_member_expel_timeout', 'group_replication_tls_source', 'innodb_purge_batch_size', 'group_replication_recovery_ssl_cert', 'max_write_lock_count'}\n",
      "version5\n",
      "{'optimizer_switch', 'innodb_redo_log_capacity', 'ndb_autoincrement_prefetch_sz', 'ndb_use_transactions', 'show_create_table_skip_secondary_engine', 'group_replication_clone_threshold', 'generated_random_password_length', 'authentication_ldap_simple_referral', 'pseudo_slave_mode', 'mandatory_roles', 'ndb_clear_apply_status', 'innodb_print_ddl_logs', 'binlog_expire_logs_seconds', 'group_replication_ssl_mode', 'innodb_compression_failure_threshold_pct', 'temptable_max_ram', 'innodb_ddl_buffer_size', 'table_encryption_privilege_check', 'clone_ddl_timeout', 'innodb_ddl_threads', 'secondary_engine_cost_threshold', 'select_into_disk_sync_delay', 'temptable_max_mmap', 'partial_revokes', 'rpl_semi_sync_source_timeout', 'ssl_crlpath', 'ndb_extra_logging', 'max_insert_delayed_threads', 'rpl_semi_sync_master_wait_point', 'group_replication_recovery_retry_count', 'table_definition_cache', 'admin_ssl_crlpath', 'replica_preserve_commit_order', 'time_zone', 'mysqlx_max_allowed_packet', 'authentication_ldap_sasl_bind_root_dn', 'ndb_fully_replicated', 'ssl_key', 'validate_password.policy', 'character_set_connection', 'innodb_idle_flush_pct', 'slave_exec_mode', 'group_replication_poll_spin_loops', 'replication_sender_observe_commit_only', 'innodb_fsync_threshold', 'innodb_concurrency_tickets', 'super_read_only', 'mysqlx_wait_timeout', 'performance_schema_max_digest_sample_age', 'mysqlx_lz4_max_client_compression_level', 'authentication_ldap_simple_server_port', 'innodb_stats_transient_sample_pages', 'log_statements_unsafe_for_binlog', 'myisam_max_sort_file_size', 'ndb_replica_batch_size', 'original_commit_timestamp', 'thread_pool_max_transactions_limit', 'ndb_metadata_check', 'group_replication_message_cache_size', 'replica_transaction_retries', 'group_replication_recovery_ssl_capath', 'mysqlx_zstd_max_client_compression_level', 'connection_memory_limit', 'slave_type_conversions', 'default_table_encryption', 'check_proxy_users', 'innodb_monitor_reset', 'clone_max_concurrency', 'authentication_ldap_sasl_bind_root_pwd', 'innodb_stats_auto_recalc', 'audit_log_disable', 'innodb_open_files', 'mysqlx_enable_hello_notice', 'ndb_eventbuffer_max_alloc', 'ndb_log_empty_epochs', 'query_alloc_block_size', 'sql_generate_invisible_primary_key', 'ndbinfo_show_hidden', 'innodb_adaptive_max_sleep_delay', 'innodb_monitor_disable', 'max_delayed_threads', 'ft_boolean_syntax', 'group_replication_ip_allowlist', 'slave_compressed_protocol', 'rpl_semi_sync_master_wait_for_slave_count', 'ndb_log_binlog_index', 'audit_log_password_history_keep_days', 'validate_password_dictionary_file', 'ndb_deferred_constraints', 'authentication_ldap_sasl_response_timeout', 'transaction_prealloc_size', 'ndb_force_send', 'password_history', 'clone_ssl_ca', 'character_set_client', 'group_replication_single_primary_mode', 'gtid_next', 'group_replication_communication_stack', 'innodb_compression_level', 'optimizer_trace', 'innodb_stats_on_metadata', 'ndb_join_pushdown', 'slave_parallel_type', 'authentication_ldap_sasl_ca_path', 'source_verify_checksum', 'binlog_checksum', 'rewriter_enabled_for_threads_without_privilege_checks', 'ndb_recv_thread_cpu_mask', 'log_slow_replica_statements', 'rpl_semi_sync_source_wait_for_replica_count', 'validate_password_length', 'replica_sql_verify_checksum', 'validate_password_number_count', 'group_replication_flow_control_applier_threshold', 'authentication_ldap_sasl_tls', 'concurrent_insert', 'group_replication_recovery_get_public_key', 'validate_password.number_count', 'internal_tmp_mem_storage_engine', 'myisam_data_pointer_size', 'admin_tls_ciphersuites', 'ndb_table_temporary', 'innodb_status_output_locks', 'innodb_max_purge_lag_delay', 'authentication_ldap_simple_bind_root_dn', 'flush_time', 'myisam_stats_method', 'innodb_redo_log_encrypt', 'sql_warnings', 'binlog_row_value_options', 'slave_allow_batching', 'max_sort_length', 'innodb_change_buffering_debug', 'innodb_segment_reserve_factor', 'keyring_hashicorp_role_id', 'innodb_stats_method', 'innodb_checkpoint_disabled', 'show_gipk_in_create_table_and_information_schema', 'group_replication_bootstrap_group', 'replica_checkpoint_period', 'replica_max_allowed_packet', 'enterprise_encryption.maximum_rsa_key_size', 'regexp_time_limit', 'tls_ciphersuites', 'pseudo_thread_id', 'delayed_insert_limit', 'slow_launch_time', 'thread_pool_query_threads_per_group', 'binlog_expire_logs_auto_purge', 'mysqlx_compression_algorithms', 'resultset_metadata', 'group_replication_recovery_ssl_cipher', 'log_error_suppression_list', 'innodb_log_write_ahead_size', 'admin_ssl_ca', 'innodb_io_capacity', 'group_replication_recovery_ssl_crl', 'replica_type_conversions', 'rpl_semi_sync_replica_trace_level', 'innodb_compression_pad_pct_max', 'innodb_flush_log_at_timeout', 'innodb_stats_persistent_sample_pages', 'authentication_ldap_simple_auth_method_name', 'sync_source_info', 'delayed_queue_size', 'mysql_firewall_trace', 'syseventlog.tag', 'validate_password_check_user_name', 'delayed_insert_timeout', 'max_allowed_packet', 'session_track_schema', 'innodb_log_wait_for_flush_spin_hwm', 'myisam_use_mmap', 'innodb_commit_concurrency', 'master_verify_checksum', 'ndb_slave_conflict_role', 'rpl_semi_sync_master_enabled', 'group_replication_flow_control_period', 'authentication_ldap_simple_connect_timeout', 'explain_format', 'ssl_cert', 'audit_log_max_size', 'mysqlx_max_connections', 'binlog_format', 'innodb_background_drop_list_empty', 'log_slow_slave_statements', 'sync_relay_log_info', 'debug_sync', 'thread_cache_size', 'authentication_ldap_sasl_connect_timeout', 'innodb_log_writer_threads', 'host_cache_size', 'innodb_print_all_deadlocks', 'authentication_ldap_simple_bind_root_pwd', 'authentication_ldap_sasl_log_status', 'max_connections', 'flush', 'group_replication_recovery_ssl_key', 'innodb_monitor_reset_all', 'replica_checkpoint_group', 'binlog_row_metadata', 'max_points_in_geometry', 'innodb_ft_enable_diag_print', 'relay_log_purge', 'default_storage_engine', 'group_replication_force_members', 'keyring_hashicorp_ca_path', 'audit_log_flush', 'innodb_redo_log_archive_dirs', 'clone_enable_compression', 'unique_checks', 'net_read_timeout', 'innodb_buffer_pool_load_now', 'syseventlog.include_pid', 'validate_password.check_user_name', 'activate_all_roles_on_login', 'transaction_read_only', 'min_examined_row_limit', 'rpl_semi_sync_source_enabled', 'ndb_report_thresh_binlog_epoch_slip', 'profiling_history_size', 'gtid_executed_compression_period', 'binlog_max_flush_queue_time', 'audit_log_statement_policy', 'group_replication_flow_control_member_quota_percent', 'version_tokens_session', 'admin_tls_version', 'debug', 'innodb_spin_wait_delay', 'tls_version', 'innodb_thread_concurrency', 'innodb_io_capacity_max', 'innodb_max_dirty_pages_pct_lwm', 'clone_valid_donor_list', 'slave_pending_jobs_size_max', 'global_connection_memory_limit', 'authentication_ldap_sasl_server_port', 'innodb_undo_tablespaces', 'mysqlx_connect_timeout', 'binlog_group_commit_sync_no_delay_count', 'authentication_ldap_sasl_group_search_attr', 'range_alloc_block_size', 'group_replication_recovery_reconnect_interval', 'collation_connection', 'group_replication_recovery_tls_version', 'mysqlx_idle_worker_thread_timeout', 'innodb_buffer_pool_dump_at_shutdown', 'audit_log_read_buffer_size', 'clone_ssl_cert', 'clone_buffer_size', 'validate_password.changed_characters_percentage', 'identity', 'ndb_metadata_sync', 'group_replication_flow_control_mode', 'validate_password_policy', 'character_set_results', 'group_replication_gtid_assignment_block_size', 'ndb_table_no_logging', 'optimizer_trace_offset', 'group_replication_flow_control_release_percent', 'max_seeks_for_key', 'binlog_group_commit_sync_delay', 'innodb_max_undo_log_size', 'sql_mode', 'innodb_disable_sort_file_cache', 'thread_pool_longrun_trx_limit', 'ndb_row_checksum', 'authentication_ldap_sasl_auth_method_name', 'rbr_exec_mode', 'sync_relay_log', 'lock_wait_timeout', 'mysqlx_deflate_max_client_compression_level', 'password_reuse_interval', 'binlog_transaction_compression_level_zstd', 'authentication_ldap_simple_tls', 'authentication_policy', 'group_replication_transaction_size_limit', 'innodb_autoextend_increment', 'innodb_ft_aux_table', 'ndb_log_exclusive_reads', 'max_length_for_sort_data', 'automatic_sp_privileges', 'group_replication_recovery_zstd_compression_level', 'sql_safe_updates', 'innodb_flush_neighbors', 'binlog_rows_query_log_events', 'innodb_buffer_pool_filename', 'audit_log_connection_policy', 'innodb_max_dirty_pages_pct', 'event_scheduler', 'cte_max_recursion_depth', 'innodb_saved_page_number_debug', 'max_user_connections', 'gtid_purged', 'replica_parallel_type', 'innodb_random_read_ahead', 'lc_messages', 'thread_pool_transaction_delay', 'authentication_ldap_simple_group_search_attr', 'slave_sql_verify_checksum', 'mysqlx_read_timeout', 'init_replica', 'innodb_undo_log_truncate', 'innodb_undo_log_encrypt', 'binlog_row_image', 'group_replication_advertise_recovery_endpoints', 'group_replication_consistency', 'innodb_fil_make_page_dirty_debug', 'group_replication_flow_control_certifier_threshold', 'innodb_lru_scan_depth', 'authentication_ldap_sasl_user_search_attr', 'rpl_semi_sync_source_trace_level', 'windowing_use_high_precision', 'audit_log_format_unix_timestamp', 'innodb_flushing_avg_loops', 'max_binlog_cache_size', 'slave_net_timeout', 'query_prealloc_size', 'sql_big_selects', 'profiling', 'group_replication_components_stop_timeout', 'binlog_direct_non_transactional_updates', 'group_replication_flow_control_max_quota', 'select_into_buffer_size', 'mysql_native_password_proxy_users', 'sql_log_bin', 'histogram_generation_max_mem_size', 'ndb_index_stat_option', 'authentication_ldap_simple_ca_path', 'sql_auto_is_null', 'innodb_adaptive_flushing', 'sql_log_off', 'server_id', 'innodb_optimize_fulltext_only', 'init_slave', 'binlog_transaction_dependency_history_size', 'group_replication_recovery_tls_ciphersuites', 'replica_exec_mode', 'temptable_use_mmap', 'net_retry_count', 'group_replication_start_on_boot', 'optimizer_prune_level', 'binlog_error_action', 'binlog_order_commits', 'low_priority_updates', 'stored_program_cache', 'innodb_sync_spin_loops', 'thread_pool_prio_kickup_timer', 'sort_buffer_size', 'admin_ssl_crl', 'ndb_schema_dist_lock_wait_timeout', 'replica_parallel_workers', 'thread_pool_max_active_query_threads', 'character_set_filesystem', 'innodb_lock_wait_timeout', 'use_secondary_engine', 'dragnet.log_error_filter_rules', 'rpl_semi_sync_source_wait_no_replica', 'innodb_ft_enable_stopword', 'max_prepared_stmt_count', 'innodb_fill_factor', 'rpl_semi_sync_slave_trace_level', 'rand_seed1', 'ssl_ca', 'log_throttle_queries_not_using_indexes', 'join_buffer_size', 'sql_buffer_result', 'insert_id', 'ndb_index_stat_enable', 'transaction_allow_batching', 'admin_ssl_cipher', 'updatable_views_with_limit', 'innodb_table_locks', 'innodb_use_fdatasync', 'tablespace_definition_cache', 'group_replication_group_seeds', 'password_require_current', 'innodb_compress_debug', 'group_replication_exit_state_action', 'keyring_aws_cmk_id', 'rpl_semi_sync_slave_enabled', 'enterprise_encryption.rsa_support_legacy_padding', 'group_replication_paxos_single_leader', 'keyring_hashicorp_server_url', 'ndb_replica_blob_write_batch_bytes', 'audit_log_rotate_on_size', 'rewriter_enabled', 'lc_time_names', 'rpl_semi_sync_master_timeout', 'replica_compressed_protocol', 'clone_autotune_concurrency', 'character_set_server', 'innodb_adaptive_flushing_lwm', 'innodb_rollback_segments', 'immediate_server_version', 'authentication_ldap_sasl_bind_base_dn', 'read_rnd_buffer_size', 'rpl_semi_sync_source_wait_point', 'innodb_buffer_pool_in_core_file', 'long_query_time', 'max_error_count', 'keyring_okv_conf_dir', 'max_relay_log_size', 'keyring_hashicorp_store_path', 'authentication_ldap_sasl_server_host', 'sql_notes', 'character_set_database', 'innodb_flush_sync', 'innodb_spin_wait_pause_multiplier', 'connection_control_failed_connections_threshold', 'innodb_log_buffer_size', 'innodb_old_blocks_pct', 'validate_password.length', 'innodb_log_checksums', 'audit_log_exclude_accounts', 'rpl_stop_slave_timeout', 'innodb_log_spin_cpu_pct_hwm', 'innodb_extend_and_initialize', 'key_cache_age_threshold', 'clone_delay_after_data_drop', 'pseudo_replica_mode', 'innodb_strict_mode', 'ssl_session_cache_mode', 'group_replication_recovery_ssl_crlpath', 'innodb_stats_persistent', 'transaction_alloc_block_size', 'innodb_checksum_algorithm', 'innodb_ft_user_stopword_table', 'ndb_eventbuffer_free_percent', 'sha256_password_proxy_users', 'max_join_size', 'innodb_trx_purge_view_update_only_debug', 'auto_increment_offset', 'innodb_old_blocks_time', 'ndb_log_empty_update', 'max_binlog_stmt_cache_size', 'read_only', 'binlog_transaction_compression', 'log_bin_trust_function_creators', 'mysqlx_write_timeout', 'key_buffer_size', 'last_insert_id', 'authentication_ldap_simple_user_search_attr', 'sql_replica_skip_counter', 'ndb_conflict_role', 'local_infile', 'sql_require_primary_key', 'auto_increment_increment', 'keyring_operations', 'key_cache_block_size', 'mysqlx_zstd_default_compression_level', 'clone_ssl_key', 'admin_ssl_key', 'binlog_cache_size', 'innodb_limit_optimistic_insert_debug', 'innodb_monitor_enable', 'clone_max_data_bandwidth', 'group_replication_flow_control_hold_percent', 'connection_memory_chunk_size', 'performance_schema_show_processlist', 'replica_net_timeout', 'optimizer_trace_limit', 'group_replication_recovery_ssl_ca', 'ssl_session_cache_timeout', 'session_track_transaction_info', 'group_replication_compression_threshold', 'group_replication_view_change_uuid', 'innodb_max_purge_lag', 'slave_transaction_retries', 'ndb_recv_thread_activation_threshold', 'keyring_hashicorp_secret_id', 'ndb_report_thresh_binlog_mem_usage', 'restrict_fk_on_non_standard_key', 'tmp_table_size', 'global_connection_memory_tracking', 'authentication_ldap_simple_init_pool_size', 'max_sp_recursion_depth', 'end_markers_in_json', 'telemetry.trace_enabled', 'set_operations_buffer_size', 'mysqlx_document_id_unique_prefix', 'mysqlx_deflate_default_compression_level', 'ndb_log_cache_size', 'group_replication_member_weight', 'innodb_cmp_per_index_enabled', 'select_into_disk_sync', 'init_connect', 'authentication_ldap_simple_server_host', 'innodb_purge_rseg_truncate_frequency', 'stored_program_definition_cache', 'innodb_buffer_pool_load_abort', 'rpl_semi_sync_master_wait_no_slave', 'group_replication_recovery_use_ssl', 'innodb_stats_include_delete_marked', 'audit_log_prune_seconds', 'authentication_ldap_simple_response_timeout', 'innodb_doublewrite', 'innodb_online_alter_log_max_size', 'group_replication_communication_max_message_size', 'print_identified_with_as_hex', 'validate_password.dictionary_file', 'max_heap_table_size', 'session_track_gtids', 'slow_query_log_file', 'innodb_deadlock_detect', 'log_raw', 'slave_checkpoint_period', 'optimizer_trace_features', 'group_replication_autorejoin_tries', 'max_connect_errors', 'innodb_adaptive_hash_index', 'sql_select_limit', 'innodb_status_output', 'table_open_cache', 'telemetry.otel_log_level', 'completion_type', 'default_tmp_storage_engine', 'group_replication_enforce_update_everywhere_checks', 'group_replication_group_name', 'sync_master_info', 'show_create_table_verbosity', 'sql_slave_skip_counter', 'authentication_ldap_sasl_referral', 'group_replication_local_address', 'default_week_format', 'delay_key_write', 'collation_database', 'authentication_ldap_sasl_init_pool_size', 'rpl_read_size', 'slave_checkpoint_group', 'timestamp', 'ndbinfo_max_bytes', 'clone_donor_timeout_after_network_failure', 'eq_range_index_dive_limit', 'group_replication_allow_local_lower_version_join', 'replica_pending_jobs_size_max', 'group_replication_unreachable_majority_timeout', 'authentication_kerberos_service_principal', 'explain_json_format_version', 'keyring_aws_region', 'clone_block_ddl', 'sql_quote_show_create', 'innodb_merge_threshold_set_all_debug', 'information_schema_stats_expiry', 'require_secure_transport', 'foreign_key_checks', 'ndb_read_backup', 'innodb_buffer_pool_size', 'mysqlx_lz4_default_compression_level', 'ndb_default_column_format', 'innodb_tmpdir', 'keep_files_on_create', 'innodb_buffer_pool_dump_now', 'validate_password.mixed_case_count', 'require_row_format', 'rpl_stop_replica_timeout', 'slave_preserve_commit_order', 'enforce_gtid_consistency', 'gtid_mode', 'offline_mode', 'bulk_insert_buffer_size', 'innodb_fast_shutdown', 'innodb_ft_server_stopword_table', 'wait_timeout', 'div_precision_increment', 'group_replication_recovery_compression_algorithms', 'group_replication_auto_increment_increment', 'innodb_thread_sleep_delay', 'ndbinfo_offline', 'max_execution_time', 'log_error_services', 'ndb_data_node_neighbour', 'ssl_capath', 'big_tables', 'rand_seed2', 'net_buffer_length', 'slave_max_allowed_packet', 'log_queries_not_using_indexes', 'mysql_firewall_mode', 'terminology_use_previous', 'syseventlog.facility', 'ndb_use_exact_count', 'old_alter_table', 'innodb_ft_num_word_optimize', 'ndb_log_transaction_compression_level_zstd', 'validate_password.special_char_count', 'keyring_hashicorp_caching', 'ssl_crl', 'connection_control_max_connection_delay', 'optimizer_search_depth', 'log_timestamps', 'slow_query_log', 'ndb_distribution', 'schema_definition_cache', 'clone_max_network_bandwidth', 'authentication_ldap_simple_bind_base_dn', 'binlog_encryption', 'authentication_ldap_sasl_max_pool_size', 'authentication_ldap_simple_log_status', 'session_track_state_change', 'sync_binlog', 'binlog_stmt_cache_size', 'preload_buffer_size', 'innodb_buffer_pool_dump_pct', 'log_output', 'innodb_ddl_log_crash_reset_debug', 'admin_ssl_capath', 'collation_server', 'innodb_change_buffering', 'innodb_log_checkpoint_now', 'thread_pool_stall_limit', 'component_scheduler.enabled', 'ndbinfo_max_rows', 'net_write_timeout', 'ndb_show_foreign_key_mock_tables', 'validate_password_special_char_count', 'audit_log_include_accounts', 'innodb_ft_result_cache_limit', 'innodb_log_spin_cpu_abs_lwm', 'transaction_isolation', 'authentication_ldap_simple_group_search_filter', 'log_slow_extra', 'myisam_sort_buffer_size', 'group_replication_flow_control_min_recovery_quota', 'explicit_defaults_for_timestamp', 'telemetry.query_text_enabled', 'log_error_verbosity', 'protocol_compression_algorithms', 'connect_timeout', 'innodb_log_compressed_pages', 'innodb_trx_rseg_n_slots_debug', 'block_encryption_mode', 'connection_control_min_connection_delay', 'group_replication_communication_debug_options', 'innodb_file_per_table', 'innodb_read_ahead_threshold', 'rpl_semi_sync_master_trace_level', 'rpl_semi_sync_replica_enabled', 'ssl_cipher', 'default_collation_for_utf8mb4', 'read_buffer_size', 'parser_max_mem_size', 'range_optimizer_max_mem_size', 'log_slow_admin_statements', 'mysqlx_min_worker_threads', 'group_replication_preemptive_garbage_collection_rows_threshold', 'group_concat_max_len', 'group_replication_recovery_public_key_path', 'admin_ssl_cert', 'group_replication_preemptive_garbage_collection', 'key_cache_division_limit', 'mysqlx_interactive_timeout', 'rewriter_verbose', 'group_replication_flow_control_min_quota', 'validate_password_mixed_case_count', 'authentication_webauthn_rp_id', 'autocommit', 'innodb_flush_log_at_trx_commit', 'ndb_dbg_check_shares', 'ndb_log_transaction_compression', 'replica_allow_batching', 'interactive_timeout', 'xa_detach_on_prepare', 'regexp_stack_limit', 'general_log_file', 'innodb_replication_delay', 'max_binlog_size', 'innodb_change_buffer_max_size', 'innodb_log_checkpoint_fuzzy_now', 'session_track_system_variables', 'slave_parallel_workers', 'optimizer_trace_max_mem_size', 'authentication_ldap_sasl_group_search_filter', 'original_server_version', 'innodb_default_row_format', 'replication_optimize_for_static_plugin_config', 'ndb_metadata_check_interval', 'general_log', 'default_password_lifetime', 'group_replication_recovery_ssl_verify_server_cert', 'innodb_parallel_read_threads', 'thread_pool_max_unused_threads', 'thread_pool_high_priority_connection', 'keyring_hashicorp_auth_path', 'authentication_ldap_simple_max_pool_size', 'group_replication_member_expel_timeout', 'group_replication_tls_source', 'innodb_purge_batch_size', 'group_replication_recovery_ssl_cert', 'max_write_lock_count'}\n"
     ]
    }
   ],
   "source": [
    "print(\"version8\")\n",
    "print(version_8_set)\n",
    "print(\"version5\")\n",
    "print(version_5_set)"
   ]
  },
  {
   "cell_type": "code",
   "execution_count": 17,
   "metadata": {},
   "outputs": [],
   "source": [
    "# Version 5에는 있지만 Version 8에는 없는 항목\n",
    "only_in_version_5 = version_5_set - version_8_set\n",
    "\n",
    "# Version 8에는 있지만 Version 5에는 없는 항목\n",
    "only_in_version_8 = version_8_set - version_5_set\n",
    "\n",
    "# 결과를 표로 출력하기 위해 pandas DataFrame 생성\n",
    "diff_data = {\n",
    "    \"Only in Version 5\": [f\"{name} ({href})\" for name, href in only_in_version_5],\n",
    "    \"Only in Version 8\": [f\"{name} ({href})\" for name, href in only_in_version_8],\n",
    "}\n"
   ]
  },
  {
   "cell_type": "code",
   "execution_count": 18,
   "metadata": {},
   "outputs": [],
   "source": [
    "# 빈 칸을 맞추기 위해 데이터 길이를 조정\n",
    "max_len = max(len(only_in_version_5), len(only_in_version_8))\n",
    "for key in diff_data:\n",
    "    while len(diff_data[key]) < max_len:\n",
    "        diff_data[key].append(\"\")"
   ]
  },
  {
   "cell_type": "code",
   "execution_count": 19,
   "metadata": {},
   "outputs": [
    {
     "name": "stdout",
     "output_type": "stream",
     "text": [
      "Empty DataFrame\n",
      "Columns: [Only in Version 5, Only in Version 8]\n",
      "Index: []\n"
     ]
    }
   ],
   "source": [
    "# DataFrame 생성\n",
    "diff_df = pd.DataFrame(diff_data)\n",
    "\n",
    "# 결과를 표로 출력\n",
    "print(diff_df)"
   ]
  },
  {
   "cell_type": "markdown",
   "metadata": {},
   "source": [
    "## Deprecated로 확인해야함"
   ]
  }
 ],
 "metadata": {
  "kernelspec": {
   "display_name": "myvenv",
   "language": "python",
   "name": "python3"
  },
  "language_info": {
   "codemirror_mode": {
    "name": "ipython",
    "version": 3
   },
   "file_extension": ".py",
   "mimetype": "text/x-python",
   "name": "python",
   "nbconvert_exporter": "python",
   "pygments_lexer": "ipython3",
   "version": "3.12.5"
  }
 },
 "nbformat": 4,
 "nbformat_minor": 2
}
